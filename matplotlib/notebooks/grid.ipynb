{
 "cells": [
  {
   "cell_type": "markdown",
   "metadata": {},
   "source": [
    "http://louistiao.me/posts/numpy-mgrid-vs-meshgrid/"
   ]
  },
  {
   "cell_type": "code",
   "execution_count": 33,
   "metadata": {},
   "outputs": [],
   "source": [
    "import matplotlib.pyplot as plt\n",
    "import numpy as np\n",
    "from mpl_toolkits.mplot3d import Axes3D"
   ]
  },
  {
   "cell_type": "code",
   "execution_count": 34,
   "metadata": {},
   "outputs": [],
   "source": [
    "def f(x, y):\n",
    "    return x**2 - x + y\n",
    "\n",
    "nx = 100\n",
    "ny = 50\n",
    "mx = 3\n",
    "my = 4"
   ]
  },
  {
   "cell_type": "code",
   "execution_count": 35,
   "metadata": {},
   "outputs": [
    {
     "name": "stdout",
     "output_type": "stream",
     "text": [
      "X1.shape: (100, 50) Y1.shape: (100, 50)\n",
      "X2.shape: (50, 100) Y2.shape: (50, 100)\n"
     ]
    }
   ],
   "source": [
    "X1, Y1 = np.mgrid[-mx:mx:nx*1j, -my:my:ny*1j]\n",
    "print(\"X1.shape:\", X1.shape, \"Y1.shape:\", Y1.shape)\n",
    "\n",
    "x = np.linspace(-mx, mx, nx)\n",
    "y = np.linspace(-my, my, ny)\n",
    "X2, Y2 = np.meshgrid(x, y)\n",
    "print(\"X2.shape:\", X2.shape, \"Y2.shape:\", Y2.shape)\n"
   ]
  },
  {
   "cell_type": "code",
   "execution_count": 41,
   "metadata": {},
   "outputs": [
    {
     "name": "stdout",
     "output_type": "stream",
     "text": [
      "(100, 50)\n"
     ]
    },
    {
     "data": {
      "image/png": "[encoded data removed]",
      "text/plain": [
       "<Figure size 432x288 with 1 Axes>"
      ]
     },
     "metadata": {
      "needs_background": "light"
     },
     "output_type": "display_data"
    },
    {
     "data": {
      "text/plain": [
       "<matplotlib.contour.QuadContourSet at 0x112f29a90>"
      ]
     },
     "execution_count": 41,
     "metadata": {},
     "output_type": "execute_result"
    },
    {
     "data": {
      "image/png": "[encoded data removed]",
      "text/plain": [
       "<Figure size 432x288 with 1 Axes>"
      ]
     },
     "metadata": {
      "needs_background": "light"
     },
     "output_type": "display_data"
    }
   ],
   "source": [
    "X1, Y1 = np.mgrid[-mx:mx:nx*1j, -my:my:ny*1j]\n",
    "Z1 = f(X1, Y1)\n",
    "print(Z1.shape)\n",
    "plt.contourf(X1, Y1, Z1)\n",
    "plt.show()\n",
    "plt.contourf(Y1, X1, Z1)"
   ]
  },
  {
   "cell_type": "code",
   "execution_count": 37,
   "metadata": {},
   "outputs": [
    {
     "name": "stdout",
     "output_type": "stream",
     "text": [
      "(50, 100)\n"
     ]
    },
    {
     "data": {
      "text/plain": [
       "<matplotlib.contour.QuadContourSet at 0x112a451f0>"
      ]
     },
     "execution_count": 37,
     "metadata": {},
     "output_type": "execute_result"
    },
    {
     "data": {
      "image/png": "[encoded data removed]",
      "text/plain": [
       "<Figure size 432x288 with 1 Axes>"
      ]
     },
     "metadata": {
      "needs_background": "light"
     },
     "output_type": "display_data"
    }
   ],
   "source": [
    "x = np.linspace(-mx, mx, nx)\n",
    "y = np.linspace(-my, my, ny)\n",
    "X2, Y2 = np.meshgrid(x, y)\n",
    "Z2 = f(X2, Y2)\n",
    "print(Z2.shape)\n",
    "plt.contourf(X2, Y2, Z2)"
   ]
  }
 ],
 "metadata": {
  "kernelspec": {
   "display_name": "Python 3.9.6 64-bit ('3.9.6')",
   "language": "python",
   "name": "python3"
  },
  "language_info": {
   "codemirror_mode": {
    "name": "ipython",
    "version": 3
   },
   "file_extension": ".py",
   "mimetype": "text/x-python",
   "name": "python",
   "nbconvert_exporter": "python",
   "pygments_lexer": "ipython3",
   "version": "3.9.6"
  },
  "orig_nbformat": 4,
  "vscode": {
   "interpreter": {
    "hash": "f3e744d126d7ee7516ff8fb60bd4abcf7465a4212c7baa1c382251af2decb0bf"
   }
  }
 },
 "nbformat": 4,
 "nbformat_minor": 2
}
